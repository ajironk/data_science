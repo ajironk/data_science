{
 "cells": [
  {
   "cell_type": "code",
   "execution_count": 1,
   "metadata": {},
   "outputs": [],
   "source": [
    "#1-2-5\n",
    "#掛け算をする関数\n",
    "\n",
    "def calc_multi(a, b):\n",
    "    return a * b"
   ]
  },
  {
   "cell_type": "code",
   "execution_count": 2,
   "metadata": {
    "scrolled": true
   },
   "outputs": [
    {
     "data": {
      "text/plain": [
       "30"
      ]
     },
     "execution_count": 2,
     "metadata": {},
     "output_type": "execute_result"
    }
   ],
   "source": [
    "calc_multi(3, 10)"
   ]
  },
  {
   "cell_type": "code",
   "execution_count": 3,
   "metadata": {},
   "outputs": [],
   "source": [
    "# フィボナッチ数の計算\n",
    "\n",
    "def calc_fib(n):\n",
    "    if n == 1 or n == 2:\n",
    "        return 1\n",
    "    else:\n",
    "        return calc_fib(n - 1) + calc_fib(n - 2)"
   ]
  },
  {
   "cell_type": "code",
   "execution_count": 4,
   "metadata": {},
   "outputs": [
    {
     "data": {
      "text/plain": [
       "55"
      ]
     },
     "execution_count": 4,
     "metadata": {},
     "output_type": "execute_result"
    }
   ],
   "source": [
    "calc_fib(10)"
   ]
  },
  {
   "cell_type": "code",
   "execution_count": 5,
   "metadata": {},
   "outputs": [],
   "source": [
    "# フィボナッチ数列の関数\n",
    "\n",
    "def calc_fib_2(n):\n",
    "    \n",
    "    x = list(range(n)) # n個のリストを作成\n",
    "    \n",
    "    for i in range(n): # n 繰り返し\n",
    "        # i=0 と i=1 の場合 1を入れる\n",
    "        if i == 0:\n",
    "            x[i] = 1\n",
    "        elif i == 1:\n",
    "            x[i] = 1\n",
    "        # i=2 から、ひとつ前ともうひとつ前の数を足し合わせる\n",
    "        elif i >1:\n",
    "            x[i] = x[i-1] + x[i-2]\n",
    "        \n",
    "    return x[i]"
   ]
  },
  {
   "cell_type": "code",
   "execution_count": 6,
   "metadata": {},
   "outputs": [
    {
     "data": {
      "text/plain": [
       "55"
      ]
     },
     "execution_count": 6,
     "metadata": {},
     "output_type": "execute_result"
    }
   ],
   "source": [
    "calc_fib_2(10)"
   ]
  },
  {
   "cell_type": "code",
   "execution_count": 7,
   "metadata": {},
   "outputs": [
    {
     "data": {
      "text/plain": [
       "30"
      ]
     },
     "execution_count": 7,
     "metadata": {},
     "output_type": "execute_result"
    }
   ],
   "source": [
    "#無名関数\n",
    "(lambda a, b: a * b)(3, 10)"
   ]
  },
  {
   "cell_type": "code",
   "execution_count": 8,
   "metadata": {},
   "outputs": [],
   "source": [
    "def calc_double(x) :\n",
    "    return x * 2"
   ]
  },
  {
   "cell_type": "code",
   "execution_count": 9,
   "metadata": {},
   "outputs": [
    {
     "name": "stdout",
     "output_type": "stream",
     "text": [
      "2\n",
      "4\n",
      "6\n",
      "8\n"
     ]
    }
   ],
   "source": [
    "# for文を使って書く\n",
    "for num in [1, 2, 3, 4]:\n",
    "    print(calc_double(num))"
   ]
  },
  {
   "cell_type": "code",
   "execution_count": 10,
   "metadata": {},
   "outputs": [
    {
     "data": {
      "text/plain": [
       "[2, 4, 6, 8]"
      ]
     },
     "execution_count": 10,
     "metadata": {},
     "output_type": "execute_result"
    }
   ],
   "source": [
    "# map関数を使って書く\n",
    "list(map(calc_double, [1, 2, 3, 4]))"
   ]
  },
  {
   "cell_type": "code",
   "execution_count": 11,
   "metadata": {},
   "outputs": [
    {
     "data": {
      "text/plain": [
       "[2, 4, 6, 8]"
      ]
     },
     "execution_count": 11,
     "metadata": {},
     "output_type": "execute_result"
    }
   ],
   "source": [
    "# lambda関数で内部に記述\n",
    "list(map(lambda x : x * 2, [1, 2, 3, 4]))"
   ]
  },
  {
   "cell_type": "code",
   "execution_count": 12,
   "metadata": {},
   "outputs": [
    {
     "name": "stdout",
     "output_type": "stream",
     "text": [
      "[7, -9]\n"
     ]
    }
   ],
   "source": [
    "# filter関数\n",
    "a = [-1, 3, -5, 7, -9]\n",
    "\n",
    "print (list(filter(lambda x: abs(x) > 5, a)))"
   ]
  },
  {
   "cell_type": "code",
   "execution_count": 13,
   "metadata": {},
   "outputs": [
    {
     "name": "stdout",
     "output_type": "stream",
     "text": [
      "-5\n"
     ]
    }
   ],
   "source": [
    "# reduce関数\n",
    "from operator import add\n",
    "from functools import reduce  # python 3 では必要\n",
    "\n",
    "a = [-1, 3, -5, 7, -9]\n",
    "\n",
    "print (reduce(add, a))\n",
    "# => -5"
   ]
  },
  {
   "cell_type": "code",
   "execution_count": 14,
   "metadata": {},
   "outputs": [
    {
     "name": "stdout",
     "output_type": "stream",
     "text": [
      "d\n",
      "a\n",
      "t\n",
      "a\n",
      " \n",
      "S\n",
      "c\n",
      "i\n",
      "e\n",
      "n\n",
      "c\n",
      "e\n"
     ]
    }
   ],
   "source": [
    "#練習問題1-1 １文字ずつ表示させる\n",
    "\n",
    "a = 'data Science'\n",
    "\n",
    "for i in range(0,len(a)):\n",
    "\n",
    "    print (a[i])"
   ]
  },
  {
   "cell_type": "code",
   "execution_count": 15,
   "metadata": {},
   "outputs": [
    {
     "name": "stdout",
     "output_type": "stream",
     "text": [
      "1275\n"
     ]
    }
   ],
   "source": [
    "#練習問題1-2　1から50までの自然数の和を計算\n",
    "\n",
    "x = 0\n",
    "for i in range(50):\n",
    "\n",
    "    x = x + (i + 1)\n",
    "    \n",
    "print (x)\n"
   ]
  },
  {
   "cell_type": "code",
   "execution_count": 16,
   "metadata": {},
   "outputs": [
    {
     "name": "stdout",
     "output_type": "stream",
     "text": [
      "10 100\n"
     ]
    }
   ],
   "source": [
    "##1-2-6　クラスとインスタンス\n",
    "\n",
    "#クラスと関数の設定\n",
    "class PrintClass:\n",
    "    def print_me(self):\n",
    "        print(self.x, self.y)\n",
    "        \n",
    "\n",
    "#インスタンスの作成\n",
    "p1 = PrintClass()\n",
    "\n",
    "#属性の値を代入\n",
    "p1.x = 10\n",
    "p1.y = 100\n",
    "p1.z = 1000\n",
    "\n",
    "#メソッドの呼び出し\n",
    "p1.print_me()"
   ]
  },
  {
   "cell_type": "code",
   "execution_count": 17,
   "metadata": {},
   "outputs": [
    {
     "data": {
      "text/plain": [
       "1000"
      ]
     },
     "execution_count": 17,
     "metadata": {},
     "output_type": "execute_result"
    }
   ],
   "source": [
    "#属性値は呼び出せる\n",
    "p1.z"
   ]
  },
  {
   "cell_type": "code",
   "execution_count": 18,
   "metadata": {},
   "outputs": [],
   "source": [
    "class MyCalcClass:\n",
    "    \n",
    "    #コンストラクタ、インスタンス生成時に実行される\n",
    "    def __init__(self, x, y):\n",
    "        self.x = x\n",
    "        self.y = y\n",
    "    \n",
    "    def calc_add1(self, a, b):\n",
    "        return a + b\n",
    "    \n",
    "    def calc_add2(self):\n",
    "        return self.x + self.y\n",
    "    \n",
    "    def calc_multi(self, a, b):\n",
    "        return a * b\n",
    "    \n",
    "    def calc_print(self, a):\n",
    "        print('data:{0}:yの値{1}'.format(a, self.y))\n",
    "        "
   ]
  },
  {
   "cell_type": "code",
   "execution_count": 19,
   "metadata": {},
   "outputs": [],
   "source": [
    "instance1 = MyCalcClass(1,2)\n",
    "instance2 = MyCalcClass(5,10)\n"
   ]
  },
  {
   "cell_type": "code",
   "execution_count": 20,
   "metadata": {},
   "outputs": [
    {
     "data": {
      "text/plain": [
       "8"
      ]
     },
     "execution_count": 20,
     "metadata": {},
     "output_type": "execute_result"
    }
   ],
   "source": [
    "#メソッドの呼び出し\n",
    "instance1.calc_add1(5,3)"
   ]
  },
  {
   "cell_type": "code",
   "execution_count": 21,
   "metadata": {},
   "outputs": [
    {
     "data": {
      "text/plain": [
       "3"
      ]
     },
     "execution_count": 21,
     "metadata": {},
     "output_type": "execute_result"
    }
   ],
   "source": [
    "#インスタンス化の時の値\n",
    "instance1.calc_add2()"
   ]
  },
  {
   "cell_type": "code",
   "execution_count": 22,
   "metadata": {},
   "outputs": [
    {
     "data": {
      "text/plain": [
       "15"
      ]
     },
     "execution_count": 22,
     "metadata": {},
     "output_type": "execute_result"
    }
   ],
   "source": [
    "instance1.calc_multi(5,3)"
   ]
  },
  {
   "cell_type": "code",
   "execution_count": 23,
   "metadata": {},
   "outputs": [
    {
     "name": "stdout",
     "output_type": "stream",
     "text": [
      "data:5:yの値2\n"
     ]
    }
   ],
   "source": [
    "instance1.calc_print(5)"
   ]
  },
  {
   "cell_type": "code",
   "execution_count": 24,
   "metadata": {},
   "outputs": [],
   "source": [
    "instance3 = MyCalcClass(50,100)"
   ]
  },
  {
   "cell_type": "code",
   "execution_count": 25,
   "metadata": {},
   "outputs": [
    {
     "data": {
      "text/plain": [
       "150"
      ]
     },
     "execution_count": 25,
     "metadata": {},
     "output_type": "execute_result"
    }
   ],
   "source": [
    "instance3.calc_add2()"
   ]
  },
  {
   "cell_type": "code",
   "execution_count": 26,
   "metadata": {},
   "outputs": [],
   "source": [
    "# 1章総合問題\n"
   ]
  },
  {
   "cell_type": "code",
   "execution_count": 27,
   "metadata": {},
   "outputs": [
    {
     "name": "stdout",
     "output_type": "stream",
     "text": [
      "2\n",
      "3\n",
      "5\n",
      "7\n"
     ]
    }
   ],
   "source": [
    "#素数を出力するプログラム\n",
    "\n",
    "for i in range(2,10+1,1):\n",
    "\n",
    "      \n",
    "    l = 1\n",
    "    for j in range(2,i,1): #2からiの分だけ繰り返し\n",
    "\n",
    "        k = i % j #余りを求める\n",
    "        #print(i,j,k)\n",
    "        l = l * k #余りゼロがあったらゼロになる\n",
    "    if l != 0:\n",
    "        print(i)\n",
    "\n",
    "                \n"
   ]
  },
  {
   "cell_type": "code",
   "execution_count": 28,
   "metadata": {},
   "outputs": [],
   "source": [
    "#関数化\n",
    "\n",
    "def primenumber(n):\n",
    "\n",
    "    for i in range(2,n+1,1):\n",
    "\n",
    "        l = 1\n",
    "        for j in range(2,i,1): #2からiの分だけ繰り返し\n",
    "\n",
    "            k = i % j #余りを求める\n",
    "            #print(i,j,k)\n",
    "            l = l * k #余りゼロがあったらゼロになる\n",
    "        if l != 0:\n",
    "            print(i)\n",
    "            \n",
    "            "
   ]
  },
  {
   "cell_type": "code",
   "execution_count": 29,
   "metadata": {},
   "outputs": [
    {
     "name": "stdout",
     "output_type": "stream",
     "text": [
      "2\n",
      "3\n",
      "5\n",
      "7\n"
     ]
    }
   ],
   "source": [
    "primenumber(10)"
   ]
  },
  {
   "cell_type": "code",
   "execution_count": null,
   "metadata": {},
   "outputs": [],
   "source": []
  }
 ],
 "metadata": {
  "kernelspec": {
   "display_name": "Python 3",
   "language": "python",
   "name": "python3"
  },
  "language_info": {
   "codemirror_mode": {
    "name": "ipython",
    "version": 3
   },
   "file_extension": ".py",
   "mimetype": "text/x-python",
   "name": "python",
   "nbconvert_exporter": "python",
   "pygments_lexer": "ipython3",
   "version": "3.7.1"
  }
 },
 "nbformat": 4,
 "nbformat_minor": 2
}
