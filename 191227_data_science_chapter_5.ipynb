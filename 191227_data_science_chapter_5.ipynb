{
 "cells": [
  {
   "cell_type": "code",
   "execution_count": 1,
   "metadata": {},
   "outputs": [
    {
     "data": {
      "text/plain": [
       "'%.3f'"
      ]
     },
     "execution_count": 1,
     "metadata": {},
     "output_type": "execute_result"
    }
   ],
   "source": [
    "# 以下のライブラリを使うので、あらかじめ読み込んでおいてください\n",
    "import numpy as np\n",
    "import numpy.random as random\n",
    "import scipy as sp\n",
    "\n",
    "# 可視化ライブラリ\n",
    "import matplotlib.pyplot as plt\n",
    "import matplotlib as mpl\n",
    "%matplotlib inline\n",
    "\n",
    "# 小数第3位まで表示\n",
    "%precision 3"
   ]
  },
  {
   "cell_type": "code",
   "execution_count": 2,
   "metadata": {},
   "outputs": [
    {
     "name": "stdout",
     "output_type": "stream",
     "text": [
      "sample_array: [0 1 2 3 4 5 6 7 8 9]\n"
     ]
    }
   ],
   "source": [
    "# データの準備\n",
    "# 等間隔の数字\n",
    "sample_array = np.arange(10)\n",
    "print('sample_array:',sample_array)"
   ]
  },
  {
   "cell_type": "code",
   "execution_count": 3,
   "metadata": {},
   "outputs": [
    {
     "name": "stdout",
     "output_type": "stream",
     "text": [
      "[0 1 2 3 4 5 6 7 8 9]\n",
      "[0 1 2 3 4]\n"
     ]
    }
   ],
   "source": [
    "# 元のデータ\n",
    "print(sample_array)\n",
    "\n",
    "# 前から数字を5つ取得して、sample_array_sliceに入れる（スライス）\n",
    "sample_array_slice = sample_array[0:5]\n",
    "print(sample_array_slice)"
   ]
  },
  {
   "cell_type": "code",
   "execution_count": 4,
   "metadata": {},
   "outputs": [
    {
     "name": "stdout",
     "output_type": "stream",
     "text": [
      "[10 10 10  3  4]\n",
      "[10 10 10  3  4  5  6  7  8  9]\n"
     ]
    }
   ],
   "source": [
    "# sample_array_sliceの3文字目までは、10で置換\n",
    "sample_array_slice[0:3] = 10\n",
    "print(sample_array_slice)\n",
    "\n",
    "# スライスの変更はオリジナルのリストの要素も変更されていることに注意\n",
    "print(sample_array)"
   ]
  },
  {
   "cell_type": "code",
   "execution_count": 5,
   "metadata": {},
   "outputs": [
    {
     "name": "stdout",
     "output_type": "stream",
     "text": [
      "[10 10 10  3  4  5  6  7  8  9]\n",
      "[20 20 20  3  4  5  6  7  8  9]\n",
      "[10 10 10  3  4  5  6  7  8  9]\n"
     ]
    }
   ],
   "source": [
    "# copyして別のobjectを作成\n",
    "sample_array_copy = np.copy(sample_array)\n",
    "print(sample_array_copy)\n",
    "\n",
    "sample_array_copy[0:3] = 20\n",
    "print(sample_array_copy)\n",
    "\n",
    "# 元のリストの要素は変更されていない\n",
    "print(sample_array)"
   ]
  },
  {
   "cell_type": "code",
   "execution_count": 6,
   "metadata": {},
   "outputs": [
    {
     "name": "stdout",
     "output_type": "stream",
     "text": [
      "['a' 'b' 'c' 'd' 'a']\n",
      "[[ 1.764  0.4    0.979  2.241  1.868]\n",
      " [-0.977  0.95  -0.151 -0.103  0.411]\n",
      " [ 0.144  1.454  0.761  0.122  0.444]\n",
      " [ 0.334  1.494 -0.205  0.313 -0.854]\n",
      " [-2.553  0.654  0.864 -0.742  2.27 ]]\n"
     ]
    }
   ],
   "source": [
    "# データの準備\n",
    "sample_names = np.array(['a','b','c','d','a'])\n",
    "random.seed(0)\n",
    "data = random.randn(5,5)\n",
    "\n",
    "print(sample_names)\n",
    "print(data)"
   ]
  },
  {
   "cell_type": "code",
   "execution_count": 7,
   "metadata": {},
   "outputs": [
    {
     "data": {
      "text/plain": [
       "array([ True, False, False, False,  True])"
      ]
     },
     "execution_count": 7,
     "metadata": {},
     "output_type": "execute_result"
    }
   ],
   "source": [
    "sample_names == 'a'"
   ]
  },
  {
   "cell_type": "code",
   "execution_count": 8,
   "metadata": {},
   "outputs": [
    {
     "data": {
      "text/plain": [
       "array([[ 1.764,  0.4  ,  0.979,  2.241,  1.868],\n",
       "       [-2.553,  0.654,  0.864, -0.742,  2.27 ]])"
      ]
     },
     "execution_count": 8,
     "metadata": {},
     "output_type": "execute_result"
    }
   ],
   "source": [
    "data[sample_names == 'a']"
   ]
  },
  {
   "cell_type": "code",
   "execution_count": 9,
   "metadata": {},
   "outputs": [
    {
     "name": "stdout",
     "output_type": "stream",
     "text": [
      "[  1   2 300 400   5]\n"
     ]
    }
   ],
   "source": [
    "# 条件制御のためのブールの配列を作成\n",
    "cond_data = np.array([True,True,False,False,True])\n",
    "\n",
    "# 配列x_arrayを作成\n",
    "x_array= np.array([1,2,3,4,5])\n",
    "\n",
    "# 配列y_arrayを作成\n",
    "y_array= np.array([100,200,300,400,500])\n",
    "\n",
    "# 条件制御実施\n",
    "print(np.where(cond_data,x_array,y_array))"
   ]
  },
  {
   "cell_type": "code",
   "execution_count": 10,
   "metadata": {},
   "outputs": [
    {
     "name": "stdout",
     "output_type": "stream",
     "text": [
      "['a' 'b' 'c' 'd' 'a']\n",
      "[[ 1.764  0.4    0.979  2.241  1.868]\n",
      " [-0.977  0.95  -0.151 -0.103  0.411]\n",
      " [ 0.144  1.454  0.761  0.122  0.444]\n",
      " [ 0.334  1.494 -0.205  0.313 -0.854]\n",
      " [-2.553  0.654  0.864 -0.742  2.27 ]]\n"
     ]
    },
    {
     "data": {
      "text/plain": [
       "array([[-0.977,  0.95 , -0.151, -0.103,  0.411]])"
      ]
     },
     "execution_count": 10,
     "metadata": {},
     "output_type": "execute_result"
    }
   ],
   "source": [
    "#練習問題5-1\n",
    "\n",
    "# データの準備\n",
    "sample_names = np.array(['a','b','c','d','a'])\n",
    "random.seed(0)\n",
    "data = random.randn(5,5)\n",
    "\n",
    "print(sample_names)\n",
    "print(data)\n",
    "\n",
    "data[sample_names == 'b']"
   ]
  },
  {
   "cell_type": "code",
   "execution_count": 11,
   "metadata": {},
   "outputs": [
    {
     "data": {
      "text/plain": [
       "array([[ 1.764,  0.4  ,  0.979,  2.241,  1.868],\n",
       "       [-0.977,  0.95 , -0.151, -0.103,  0.411],\n",
       "       [ 0.334,  1.494, -0.205,  0.313, -0.854],\n",
       "       [-2.553,  0.654,  0.864, -0.742,  2.27 ]])"
      ]
     },
     "execution_count": 11,
     "metadata": {},
     "output_type": "execute_result"
    }
   ],
   "source": [
    "#練習問題5-2\n",
    "data[sample_names != 'c']"
   ]
  },
  {
   "cell_type": "code",
   "execution_count": 12,
   "metadata": {},
   "outputs": [
    {
     "name": "stdout",
     "output_type": "stream",
     "text": [
      "[ 6  7  3  4 10]\n"
     ]
    }
   ],
   "source": [
    "#練習問題5-3\n",
    "# 条件制御のためのブールの配列を作成\n",
    "cond_data = np.array([False,False,True,True,False])\n",
    "\n",
    "# 配列x_arrayを作成\n",
    "x_array= np.array([1,2,3,4,5])\n",
    "\n",
    "# 配列y_arrayを作成\n",
    "y_array= np.array([6,7,8,9,10])\n",
    "\n",
    "# 条件制御実施\n",
    "print(np.where(cond_data,x_array,y_array))"
   ]
  },
  {
   "cell_type": "code",
   "execution_count": 13,
   "metadata": {},
   "outputs": [
    {
     "name": "stdout",
     "output_type": "stream",
     "text": [
      "[ True  True False False  True]\n",
      "[False  True]\n"
     ]
    }
   ],
   "source": [
    "cond_data = np.array([True,True,False,False,True])\n",
    "\n",
    "# cond_dataを表示\n",
    "print(cond_data)\n",
    "\n",
    "# 重複削除\n",
    "print(np.unique(cond_data))"
   ]
  },
  {
   "cell_type": "code",
   "execution_count": 14,
   "metadata": {},
   "outputs": [
    {
     "name": "stdout",
     "output_type": "stream",
     "text": [
      "元のデータ： [0 1 2 3 4 5 6 7 8 9]\n",
      "すべての要素の平方根： [0.    1.    1.414 1.732 2.    2.236 2.449 2.646 2.828 3.   ]\n",
      "すべての要素のネイピア指数関数： [1.000e+00 2.718e+00 7.389e+00 2.009e+01 5.460e+01 1.484e+02 4.034e+02\n",
      " 1.097e+03 2.981e+03 8.103e+03]\n"
     ]
    }
   ],
   "source": [
    "# ユニバーサル関数\n",
    "sample_data = np.arange(10)\n",
    "print('元のデータ：', sample_data)\n",
    "print('すべての要素の平方根：',np.sqrt(sample_data))\n",
    "print('すべての要素のネイピア指数関数：',np.exp(sample_data))"
   ]
  },
  {
   "cell_type": "code",
   "execution_count": 15,
   "metadata": {},
   "outputs": [
    {
     "name": "stdout",
     "output_type": "stream",
     "text": [
      "[[0 1 2]\n",
      " [3 4 5]\n",
      " [6 7 8]]\n",
      "最小値: 0\n",
      "最大値: 8\n",
      "平均: 4.0\n",
      "合計: 36\n",
      "行の合計: [ 3 12 21]\n",
      "列の合計: [ 9 12 15]\n"
     ]
    }
   ],
   "source": [
    "# arangeで9つの要素を持つ配列を生成。reshapeで3行3列の行列に再形成\n",
    "sample_multi_array_data1 = np.arange(9).reshape(3,3)\n",
    "\n",
    "print(sample_multi_array_data1)\n",
    "\n",
    "print('最小値:',sample_multi_array_data1.min())\n",
    "print('最大値:',sample_multi_array_data1.max())\n",
    "print('平均:',sample_multi_array_data1.mean())\n",
    "print('合計:',sample_multi_array_data1.sum())\n",
    "\n",
    "# 行列を指定して合計値を求める\n",
    "print('行の合計:',sample_multi_array_data1.sum(axis=1))\n",
    "print('列の合計:',sample_multi_array_data1.sum(axis=0))"
   ]
  },
  {
   "cell_type": "code",
   "execution_count": 16,
   "metadata": {},
   "outputs": [
    {
     "name": "stdout",
     "output_type": "stream",
     "text": [
      "Trueが少なくとも１つあるかどうか: True\n",
      "すべてTrueかどうか: False\n"
     ]
    }
   ],
   "source": [
    "# 真偽値の配列関数\n",
    "cond_data = np.array([True,True,False,False,True])\n",
    "\n",
    "print('Trueが少なくとも１つあるかどうか:',cond_data.any())\n",
    "print('すべてTrueかどうか:',cond_data.all())"
   ]
  },
  {
   "cell_type": "code",
   "execution_count": 17,
   "metadata": {},
   "outputs": [
    {
     "name": "stdout",
     "output_type": "stream",
     "text": [
      "[[0 1 2]\n",
      " [3 4 5]\n",
      " [6 7 8]]\n",
      "5より大きい数字がいくつあるか: 3\n"
     ]
    }
   ],
   "source": [
    "sample_multi_array_data1 = np.arange(9).reshape(3,3)\n",
    "print(sample_multi_array_data1)\n",
    "print('5より大きい数字がいくつあるか:',(sample_multi_array_data1>5).sum())"
   ]
  },
  {
   "cell_type": "code",
   "execution_count": 18,
   "metadata": {},
   "outputs": [
    {
     "name": "stdout",
     "output_type": "stream",
     "text": [
      "[[0 1 2]\n",
      " [3 4 5]\n",
      " [6 7 8]]\n",
      "対角成分: [0 4 8]\n",
      "対角成分の和: 12\n"
     ]
    }
   ],
   "source": [
    "# 行列計算\n",
    "sample_multi_array_data1 = np.arange(9).reshape(3,3)\n",
    "print(sample_multi_array_data1)\n",
    "\n",
    "print('対角成分:',np.diag(sample_multi_array_data1))\n",
    "print('対角成分の和:',np.trace(sample_multi_array_data1))"
   ]
  },
  {
   "cell_type": "code",
   "execution_count": 19,
   "metadata": {},
   "outputs": [
    {
     "data": {
      "text/plain": [
       "array([[ 0,  1,  2,  3],\n",
       "       [ 4,  5,  6,  7],\n",
       "       [ 8,  9, 10, 11],\n",
       "       [12, 13, 14, 15]])"
      ]
     },
     "execution_count": 19,
     "metadata": {},
     "output_type": "execute_result"
    }
   ],
   "source": [
    "#練習問題5-4\n",
    "sample_multi_array_data2 = np.arange(16).reshape(4,4)\n",
    "sample_multi_array_data2 "
   ]
  },
  {
   "cell_type": "code",
   "execution_count": 20,
   "metadata": {},
   "outputs": [
    {
     "name": "stdout",
     "output_type": "stream",
     "text": [
      "すべての要素の平方根： [[0.    1.    1.414 1.732]\n",
      " [2.    2.236 2.449 2.646]\n",
      " [2.828 3.    3.162 3.317]\n",
      " [3.464 3.606 3.742 3.873]]\n"
     ]
    }
   ],
   "source": [
    "print('すべての要素の平方根：',np.sqrt(sample_multi_array_data2))"
   ]
  },
  {
   "cell_type": "code",
   "execution_count": 21,
   "metadata": {},
   "outputs": [
    {
     "name": "stdout",
     "output_type": "stream",
     "text": [
      "最小値: 0.0\n",
      "最大値: 3.872983346207417\n",
      "平均: 2.5293247875089127\n",
      "合計: 40.4691966001426\n"
     ]
    }
   ],
   "source": [
    "#練習問題5-5\n",
    "\n",
    "sample_squared = np.sqrt(sample_multi_array_data2)\n",
    "print('最小値:',sample_squared.min())\n",
    "print('最大値:',sample_squared.max())\n",
    "print('平均:',sample_squared.mean())\n",
    "print('合計:',sample_squared.sum())"
   ]
  },
  {
   "cell_type": "code",
   "execution_count": 22,
   "metadata": {},
   "outputs": [
    {
     "name": "stdout",
     "output_type": "stream",
     "text": [
      "[[0.    1.    1.414 1.732]\n",
      " [2.    2.236 2.449 2.646]\n",
      " [2.828 3.    3.162 3.317]\n",
      " [3.464 3.606 3.742 3.873]]\n",
      "対角成分: [0.    2.236 3.162 3.873]\n",
      "対角成分の和: 9.271328983875588\n"
     ]
    }
   ],
   "source": [
    "#練習問題5-6\n",
    "\n",
    "print(sample_squared)\n",
    "\n",
    "print('対角成分:',np.diag(sample_squared))\n",
    "print('対角成分の和:',np.trace(sample_squared))"
   ]
  },
  {
   "cell_type": "code",
   "execution_count": 23,
   "metadata": {},
   "outputs": [
    {
     "data": {
      "text/plain": [
       "array([0, 1, 2, 3, 4, 5, 6, 7, 8, 9])"
      ]
     },
     "execution_count": 23,
     "metadata": {},
     "output_type": "execute_result"
    }
   ],
   "source": [
    "# データの準備\n",
    "sample_array = np.arange(10)\n",
    "sample_array"
   ]
  },
  {
   "cell_type": "code",
   "execution_count": 24,
   "metadata": {},
   "outputs": [
    {
     "data": {
      "text/plain": [
       "array([[0, 1, 2, 3, 4],\n",
       "       [5, 6, 7, 8, 9]])"
      ]
     },
     "execution_count": 24,
     "metadata": {},
     "output_type": "execute_result"
    }
   ],
   "source": [
    "# 再形成\n",
    "sample_array2 = sample_array.reshape(2,5)\n",
    "sample_array2"
   ]
  },
  {
   "cell_type": "code",
   "execution_count": 25,
   "metadata": {},
   "outputs": [
    {
     "data": {
      "text/plain": [
       "array([[0, 1],\n",
       "       [2, 3],\n",
       "       [4, 5],\n",
       "       [6, 7],\n",
       "       [8, 9]])"
      ]
     },
     "execution_count": 25,
     "metadata": {},
     "output_type": "execute_result"
    }
   ],
   "source": [
    "sample_array2.reshape(5,2)"
   ]
  },
  {
   "cell_type": "code",
   "execution_count": 26,
   "metadata": {},
   "outputs": [
    {
     "name": "stdout",
     "output_type": "stream",
     "text": [
      "[[1 2 3]\n",
      " [4 5 6]]\n",
      "[[ 7  8  9]\n",
      " [10 11 12]]\n"
     ]
    },
    {
     "data": {
      "text/plain": [
       "array([[ 1,  2,  3],\n",
       "       [ 4,  5,  6],\n",
       "       [ 7,  8,  9],\n",
       "       [10, 11, 12]])"
      ]
     },
     "execution_count": 26,
     "metadata": {},
     "output_type": "execute_result"
    }
   ],
   "source": [
    "#　データの準備\n",
    "sample_array3 = np.array([[1,2,3],[4,5,6]])\n",
    "sample_array4 = np.array([[7,8,9],[10,11,12]])\n",
    "print(sample_array3)\n",
    "print(sample_array4)\n",
    "\n",
    "# 行方向に結合。パラメータのaxisに0を指定\n",
    "np.concatenate([sample_array3,sample_array4],axis=0)"
   ]
  },
  {
   "cell_type": "code",
   "execution_count": 27,
   "metadata": {},
   "outputs": [
    {
     "data": {
      "text/plain": [
       "array([[ 1,  2,  3],\n",
       "       [ 4,  5,  6],\n",
       "       [ 7,  8,  9],\n",
       "       [10, 11, 12]])"
      ]
     },
     "execution_count": 27,
     "metadata": {},
     "output_type": "execute_result"
    }
   ],
   "source": [
    "# vstackを使った行方向結合の方法\n",
    "np.vstack((sample_array3,sample_array4))"
   ]
  },
  {
   "cell_type": "code",
   "execution_count": 28,
   "metadata": {},
   "outputs": [
    {
     "data": {
      "text/plain": [
       "array([[ 1,  2,  3,  7,  8,  9],\n",
       "       [ 4,  5,  6, 10, 11, 12]])"
      ]
     },
     "execution_count": 28,
     "metadata": {},
     "output_type": "execute_result"
    }
   ],
   "source": [
    "# 列方向に結合\n",
    "np.concatenate([sample_array3,sample_array4],axis=1)"
   ]
  },
  {
   "cell_type": "code",
   "execution_count": 29,
   "metadata": {},
   "outputs": [
    {
     "data": {
      "text/plain": [
       "array([[ 1,  2,  3,  7,  8,  9],\n",
       "       [ 4,  5,  6, 10, 11, 12]])"
      ]
     },
     "execution_count": 29,
     "metadata": {},
     "output_type": "execute_result"
    }
   ],
   "source": [
    "# 列方向結合の他の方法\n",
    "np.hstack((sample_array3,sample_array4))"
   ]
  },
  {
   "cell_type": "code",
   "execution_count": 30,
   "metadata": {},
   "outputs": [
    {
     "data": {
      "text/plain": [
       "array([[ 1,  2,  3],\n",
       "       [ 4,  5,  6],\n",
       "       [ 7,  8,  9],\n",
       "       [10, 11, 12]])"
      ]
     },
     "execution_count": 30,
     "metadata": {},
     "output_type": "execute_result"
    }
   ],
   "source": [
    "# データの用意\n",
    "sample_array3 = np.array([[1,2,3],[4,5,6]])\n",
    "sample_array4 = np.array([[7,8,9],[10,11,12]])\n",
    "sample_array_vstack = np.vstack((sample_array3,sample_array4))\n",
    "# 作成したデータsample_array_vstackを表示\n",
    "sample_array_vstack"
   ]
  },
  {
   "cell_type": "code",
   "execution_count": 31,
   "metadata": {},
   "outputs": [],
   "source": [
    "# sample_array_vstackを3つに分割し、first、seocnd、thirdという3つの変数に代入\n",
    "first,second,third=np.split(sample_array_vstack,[1,3]) #分ける場所を指定している"
   ]
  },
  {
   "cell_type": "code",
   "execution_count": 32,
   "metadata": {},
   "outputs": [
    {
     "name": "stdout",
     "output_type": "stream",
     "text": [
      "[[1 2 3]]\n",
      "[[4 5 6]\n",
      " [7 8 9]]\n",
      "[[10 11 12]]\n"
     ]
    }
   ],
   "source": [
    "# firstの表示\n",
    "print(first)\n",
    "# secondの表示\n",
    "print(second)\n",
    "# thirdの表示\n",
    "print(third)"
   ]
  },
  {
   "cell_type": "code",
   "execution_count": 33,
   "metadata": {},
   "outputs": [
    {
     "name": "stdout",
     "output_type": "stream",
     "text": [
      "[[ 1  2  3]\n",
      " [ 4  5  6]\n",
      " [ 7  8  9]\n",
      " [10 11 12]\n",
      " [13 14 15]\n",
      " [16 17 18]\n",
      " [19 20 21]]\n"
     ]
    }
   ],
   "source": [
    "# データの用意\n",
    "sample_array5 = np.array([[13,14,15],[16,17,18],[19,20,21]])\n",
    "sample_array_vstack2 = np.vstack((sample_array3,sample_array4,sample_array5))\n",
    "# 元のデータ\n",
    "print(sample_array_vstack2)"
   ]
  },
  {
   "cell_type": "code",
   "execution_count": 34,
   "metadata": {},
   "outputs": [
    {
     "name": "stdout",
     "output_type": "stream",
     "text": [
      "・1つ目：\n",
      " [[1 2 3]\n",
      " [4 5 6]] \n",
      "\n",
      "・2つ目：\n",
      " [[7 8 9]] \n",
      "\n",
      "・3つ目：\n",
      " [[10 11 12]\n",
      " [13 14 15]] \n",
      "\n",
      "・4つ目：\n",
      " [[16 17 18]\n",
      " [19 20 21]] \n",
      "\n"
     ]
    }
   ],
   "source": [
    "# sample_array_vstack2を~2,2,3~4,5~の4つに分割し、first、second、third、fourthに代入する\n",
    "first,second,third,fourth=np.split(sample_array_vstack2,[2,3,5])\n",
    "print('・1つ目：\\n',first,'\\n')\n",
    "print('・2つ目：\\n',second,'\\n')\n",
    "print('・3つ目：\\n',third,'\\n')\n",
    "print('・4つ目：\\n',fourth,'\\n')"
   ]
  },
  {
   "cell_type": "code",
   "execution_count": 35,
   "metadata": {},
   "outputs": [
    {
     "data": {
      "text/plain": [
       "array([1, 1, 1, 1, 1, 2, 2, 2, 2, 2, 3, 3, 3, 3, 3, 4, 4, 4, 4, 4, 5, 5,\n",
       "       5, 5, 5, 6, 6, 6, 6, 6])"
      ]
     },
     "execution_count": 35,
     "metadata": {},
     "output_type": "execute_result"
    }
   ],
   "source": [
    "# repeatを使うと、各要素が指定した回数だけ繰り返されて生成される\n",
    "first.repeat(5)"
   ]
  },
  {
   "cell_type": "code",
   "execution_count": 36,
   "metadata": {
    "scrolled": true
   },
   "outputs": [
    {
     "name": "stdout",
     "output_type": "stream",
     "text": [
      "[0 1 2 3 4 5 6 7 8 9]\n"
     ]
    }
   ],
   "source": [
    "# データの準備\n",
    "sample_array = np.arange(10)\n",
    "print(sample_array)"
   ]
  },
  {
   "cell_type": "code",
   "execution_count": 37,
   "metadata": {},
   "outputs": [
    {
     "data": {
      "text/plain": [
       "array([ 3,  4,  5,  6,  7,  8,  9, 10, 11, 12])"
      ]
     },
     "execution_count": 37,
     "metadata": {},
     "output_type": "execute_result"
    }
   ],
   "source": [
    "sample_array + 3"
   ]
  },
  {
   "cell_type": "code",
   "execution_count": 38,
   "metadata": {},
   "outputs": [
    {
     "data": {
      "text/plain": [
       "array([[ 0,  1,  2,  3],\n",
       "       [ 4,  5,  6,  7],\n",
       "       [ 8,  9, 10, 11],\n",
       "       [ 0,  1,  2,  3],\n",
       "       [ 4,  5,  6,  7],\n",
       "       [ 8,  9, 10, 11]])"
      ]
     },
     "execution_count": 38,
     "metadata": {},
     "output_type": "execute_result"
    }
   ],
   "source": [
    "#練習問題5-7\n",
    "\n",
    "# データの準備\n",
    "sample_array1 = np.arange(12).reshape(3,4)\n",
    "sample_array2 = np.arange(12).reshape(3,4)\n",
    "# 行方向に結合。パラメータのaxisに0を指定\n",
    "np.concatenate([sample_array1,sample_array2],axis=0)"
   ]
  },
  {
   "cell_type": "code",
   "execution_count": 39,
   "metadata": {},
   "outputs": [
    {
     "data": {
      "text/plain": [
       "array([[ 1,  2,  3,  7,  8,  9],\n",
       "       [ 4,  5,  6, 10, 11, 12]])"
      ]
     },
     "execution_count": 39,
     "metadata": {},
     "output_type": "execute_result"
    }
   ],
   "source": [
    "#練習問題5-8\n",
    "np.concatenate([sample_array3,sample_array4],axis=1)"
   ]
  },
  {
   "cell_type": "code",
   "execution_count": 40,
   "metadata": {},
   "outputs": [
    {
     "data": {
      "text/plain": [
       "array([ 3,  4,  5,  6,  7,  8,  9, 10, 11, 12])"
      ]
     },
     "execution_count": 40,
     "metadata": {},
     "output_type": "execute_result"
    }
   ],
   "source": [
    "#練習問題5-9\n",
    "sample_list = [1,2,3,4,5]\n",
    "sample_array + 3"
   ]
  },
  {
   "cell_type": "code",
   "execution_count": 41,
   "metadata": {},
   "outputs": [
    {
     "data": {
      "image/png": "[encoded data removed]",
      "text/plain": [
       "<Figure size 432x288 with 1 Axes>"
      ]
     },
     "metadata": {
      "needs_background": "light"
     },
     "output_type": "display_data"
    }
   ],
   "source": [
    "# xとして、linspaceで、開始が0、終了が10、項目が11つの等間隔数列を生成\n",
    "x = np.linspace(0, 10, num=11, endpoint=True)\n",
    "# yの値を生成\n",
    "y = np.cos(-x**2/5.0)\n",
    "plt.plot(x,y,'o')\n",
    "plt.grid(True)"
   ]
  },
  {
   "cell_type": "code",
   "execution_count": 42,
   "metadata": {},
   "outputs": [
    {
     "data": {
      "image/png": "[encoded data removed]",
      "text/plain": [
       "<Figure size 432x288 with 1 Axes>"
      ]
     },
     "metadata": {
      "needs_background": "light"
     },
     "output_type": "display_data"
    }
   ],
   "source": [
    "from scipy import interpolate\n",
    "\n",
    "# 線形補間。interp1dのパラメータとして「linear」を指定する\n",
    "f = interpolate.interp1d(x, y,'linear')\n",
    "plt.plot(x,f(x),'-')\n",
    "plt.grid(True)"
   ]
  },
  {
   "cell_type": "code",
   "execution_count": 43,
   "metadata": {},
   "outputs": [
    {
     "data": {
      "image/png": "[encoded data removed]",
      "text/plain": [
       "<Figure size 432x288 with 1 Axes>"
      ]
     },
     "metadata": {
      "needs_background": "light"
     },
     "output_type": "display_data"
    }
   ],
   "source": [
    "# スプライン3次補間を計算してf2として追加する。パラメータに「cubic」を指定する\n",
    "f2 = interpolate.interp1d(x, y,'cubic')\n",
    "\n",
    "#曲線を出すために、xの値を細かくする。\n",
    "xnew = np.linspace(0, 10, num=30, endpoint=True)\n",
    "\n",
    "# グラフ化。fを直線で描き、f2を点線で描く\n",
    "plt.plot(x, y, 'o', xnew, f(xnew), '-', xnew, f2(xnew), '--')\n",
    "\n",
    "# 凡例\n",
    "plt.legend(['data', 'linear', 'cubic'], loc='best')\n",
    "plt.grid(True)"
   ]
  },
  {
   "cell_type": "code",
   "execution_count": 44,
   "metadata": {},
   "outputs": [
    {
     "data": {
      "image/png": "[encoded data removed]",
      "text/plain": [
       "<Figure size 432x288 with 1 Axes>"
      ]
     },
     "metadata": {
      "needs_background": "light"
     },
     "output_type": "display_data"
    }
   ],
   "source": [
    "#練習問題5-10\n",
    "x = np.linspace(0, 10, num=11, endpoint=True)\n",
    "y = np.sin(x**2/5.0)\n",
    "plt.plot(x,y,'o')\n",
    "plt.grid(True)\n",
    "\n",
    "# 線形補間。interp1dのパラメータとして「linear」を指定する\n",
    "f = interpolate.interp1d(x, y,'linear')\n",
    "plt.plot(x,f(x),'-')\n",
    "plt.grid(True)"
   ]
  },
  {
   "cell_type": "code",
   "execution_count": 45,
   "metadata": {},
   "outputs": [
    {
     "data": {
      "text/plain": [
       "[<matplotlib.lines.Line2D at 0x269816be710>,\n",
       " <matplotlib.lines.Line2D at 0x269816be828>,\n",
       " <matplotlib.lines.Line2D at 0x269816beba8>]"
      ]
     },
     "execution_count": 45,
     "metadata": {},
     "output_type": "execute_result"
    },
    {
     "data": {
      "image/png": "[encoded data removed]",
      "text/plain": [
       "<Figure size 432x288 with 1 Axes>"
      ]
     },
     "metadata": {
      "needs_background": "light"
     },
     "output_type": "display_data"
    }
   ],
   "source": [
    "#練習問題5-11\n",
    "f2 = interpolate.interp1d(x, y,'quadratic')\n",
    "\n",
    "#曲線を出すために、xの値を細かくする。\n",
    "xnew = np.linspace(0, 10, num=30, endpoint=True)\n",
    "\n",
    "# グラフ化。fを直線で描き、f2を点線で描く\n",
    "plt.plot(x, y, 'o', xnew, f(xnew), '-', xnew, f2(xnew), '--')\n",
    "\n"
   ]
  },
  {
   "cell_type": "code",
   "execution_count": 46,
   "metadata": {},
   "outputs": [
    {
     "data": {
      "image/png": "[encoded data removed]",
      "text/plain": [
       "<Figure size 432x288 with 1 Axes>"
      ]
     },
     "metadata": {
      "needs_background": "light"
     },
     "output_type": "display_data"
    }
   ],
   "source": [
    "\n",
    "# スプライン3次補間を計算してf2として追加する。パラメータに「cubic」を指定する\n",
    "f3 = interpolate.interp1d(x, y,'cubic')\n",
    "\n",
    "# グラフ化。fを直線で描き、f2を点線で描く\n",
    "plt.plot(x, y, 'o', xnew, f(xnew), '-', xnew, f3(xnew), '--')\n",
    "\n",
    "# 凡例\n",
    "plt.legend(['data', 'linear', 'cubic'], loc='best')\n",
    "plt.grid(True)\n"
   ]
  },
  {
   "cell_type": "code",
   "execution_count": 47,
   "metadata": {},
   "outputs": [],
   "source": [
    "from scipy.optimize import fsolve"
   ]
  },
  {
   "cell_type": "code",
   "execution_count": 48,
   "metadata": {},
   "outputs": [],
   "source": [
    "def f(x):\n",
    "    y = 2 * x**2 + 2 * x - 10\n",
    "    return y"
   ]
  },
  {
   "cell_type": "code",
   "execution_count": 49,
   "metadata": {},
   "outputs": [
    {
     "data": {
      "image/png": "[encoded data removed]",
      "text/plain": [
       "<Figure size 432x288 with 1 Axes>"
      ]
     },
     "metadata": {
      "needs_background": "light"
     },
     "output_type": "display_data"
    }
   ],
   "source": [
    "# グラフ化してみる\n",
    "x = np.linspace(-4,4)\n",
    "plt.plot(x,f(x))\n",
    "plt.plot(x,np.zeros(len(x)))\n",
    "plt.grid(True)"
   ]
  },
  {
   "cell_type": "code",
   "execution_count": 50,
   "metadata": {},
   "outputs": [
    {
     "name": "stdout",
     "output_type": "stream",
     "text": [
      "[1.791]\n"
     ]
    }
   ],
   "source": [
    "# x = 2 付近\n",
    "x = fsolve(f,2)\n",
    "print(x)"
   ]
  },
  {
   "cell_type": "code",
   "execution_count": 51,
   "metadata": {},
   "outputs": [
    {
     "name": "stdout",
     "output_type": "stream",
     "text": [
      "[-2.791]\n"
     ]
    }
   ],
   "source": [
    "# x = -3 付近\n",
    "x = fsolve(f,-3)\n",
    "print(x)"
   ]
  },
  {
   "cell_type": "code",
   "execution_count": 52,
   "metadata": {},
   "outputs": [],
   "source": [
    "from scipy.optimize import minimize"
   ]
  },
  {
   "cell_type": "code",
   "execution_count": 53,
   "metadata": {},
   "outputs": [],
   "source": [
    "# 目的となる関数\n",
    "def objective(x):\n",
    "    x1 = x[0]\n",
    "    x2 = x[1]\n",
    "    x3 = x[2]\n",
    "    x4 = x[3]\n",
    "    return x1*x4*(x1+x2+x3)+x3"
   ]
  },
  {
   "cell_type": "code",
   "execution_count": 54,
   "metadata": {},
   "outputs": [],
   "source": [
    "# 制約式その1\n",
    "def constraint1(x):\n",
    "    return x[0]*x[1]*x[2]*x[3]-25.0\n",
    "\n",
    "# 制約式その2\n",
    "def constraint2(x):\n",
    "    sum_sq = 40\n",
    "    for i in range(4):\n",
    "        sum_sq = sum_sq - x[i]**2\n",
    "    return sum_sq"
   ]
  },
  {
   "cell_type": "code",
   "execution_count": 55,
   "metadata": {},
   "outputs": [
    {
     "name": "stdout",
     "output_type": "stream",
     "text": [
      "16\n"
     ]
    }
   ],
   "source": [
    "# 初期値\n",
    "x0 = [1,5,5,1]\n",
    "print(objective(x0))"
   ]
  },
  {
   "cell_type": "code",
   "execution_count": 56,
   "metadata": {},
   "outputs": [],
   "source": [
    "b = (1.0,5.0)\n",
    "bnds = (b,b,b,b)\n",
    "con1 = {'type':'ineq','fun':constraint1}\n",
    "con2 = {'type':'ineq','fun':constraint2}\n",
    "cons = [con1,con2]"
   ]
  },
  {
   "cell_type": "code",
   "execution_count": 57,
   "metadata": {},
   "outputs": [],
   "source": [
    "sol = minimize(objective,x0,method='SLSQP',bounds=bnds,constraints=cons)"
   ]
  },
  {
   "cell_type": "code",
   "execution_count": 58,
   "metadata": {},
   "outputs": [
    {
     "name": "stdout",
     "output_type": "stream",
     "text": [
      "     fun: 17.014017245446883\n",
      "     jac: array([14.572,  1.379,  2.379,  9.564])\n",
      " message: 'Optimization terminated successfully.'\n",
      "    nfev: 30\n",
      "     nit: 5\n",
      "    njev: 5\n",
      "  status: 0\n",
      " success: True\n",
      "       x: array([1.   , 4.743, 3.821, 1.379])\n"
     ]
    }
   ],
   "source": [
    "print(sol)"
   ]
  },
  {
   "cell_type": "code",
   "execution_count": 59,
   "metadata": {},
   "outputs": [
    {
     "name": "stdout",
     "output_type": "stream",
     "text": [
      "Y: 17.014017245446883\n",
      "X: [1.    4.743 3.821 1.379]\n"
     ]
    }
   ],
   "source": [
    "print('Y:',sol.fun)\n",
    "print('X:',sol.x)"
   ]
  },
  {
   "cell_type": "code",
   "execution_count": 60,
   "metadata": {},
   "outputs": [
    {
     "data": {
      "image/png": "[encoded data removed]",
      "text/plain": [
       "<Figure size 432x288 with 1 Axes>"
      ]
     },
     "metadata": {
      "needs_background": "light"
     },
     "output_type": "display_data"
    }
   ],
   "source": [
    "#練習問題5-17\n",
    "\n",
    "def f(x):\n",
    "    y = 5 * x - 10\n",
    "    return y\n",
    "\n",
    "x = np.linspace(-4,4)\n",
    "plt.plot(x,f(x))\n",
    "plt.plot(x,np.zeros(len(x)))\n",
    "plt.grid(True)"
   ]
  },
  {
   "cell_type": "code",
   "execution_count": 61,
   "metadata": {},
   "outputs": [
    {
     "name": "stdout",
     "output_type": "stream",
     "text": [
      "[2.]\n"
     ]
    }
   ],
   "source": [
    "x = fsolve(f,0)\n",
    "print(x)"
   ]
  },
  {
   "cell_type": "code",
   "execution_count": 62,
   "metadata": {
    "scrolled": true
   },
   "outputs": [
    {
     "data": {
      "image/png": "[encoded data removed]",
      "text/plain": [
       "<Figure size 432x288 with 1 Axes>"
      ]
     },
     "metadata": {
      "needs_background": "light"
     },
     "output_type": "display_data"
    }
   ],
   "source": [
    "#練習問題5-18\n",
    "\n",
    "\n",
    "def f(x):\n",
    "    y =  x**3 + 2 * x**2  - 11 * x +12\n",
    "    return y\n",
    "\n",
    "x = np.linspace(-8,4)\n",
    "plt.plot(x,f(x))\n",
    "plt.plot(x,np.zeros(len(x)))\n",
    "plt.grid(True)\n"
   ]
  },
  {
   "cell_type": "code",
   "execution_count": 63,
   "metadata": {},
   "outputs": [
    {
     "name": "stdout",
     "output_type": "stream",
     "text": [
      "[-4.807]\n"
     ]
    }
   ],
   "source": [
    "x = fsolve(f,-10)\n",
    "print(x)"
   ]
  },
  {
   "cell_type": "code",
   "execution_count": 64,
   "metadata": {},
   "outputs": [],
   "source": [
    "#5章総合問題\n",
    "\n",
    "A = np.array([[5, 1, 0, 1],\n",
    "              [1, 9, -5, 7],\n",
    "              [0, -5, 8, -3],\n",
    "              [1, 7, -3, 10]])\n",
    "b = np.array([2, 10, 5, 10])\n"
   ]
  },
  {
   "cell_type": "code",
   "execution_count": 65,
   "metadata": {},
   "outputs": [
    {
     "name": "stdout",
     "output_type": "stream",
     "text": [
      "[-0.051  2.157  2.01   0.098]\n"
     ]
    }
   ],
   "source": [
    "L = sp.linalg.cholesky(A)\n",
    "\n",
    "t = sp.linalg.solve(L.T.conj(), b)\n",
    "x = sp.linalg.solve(L, t)\n",
    "\n",
    "# 解答\n",
    "print(x)"
   ]
  },
  {
   "cell_type": "code",
   "execution_count": 66,
   "metadata": {},
   "outputs": [
    {
     "data": {
      "text/plain": [
       "array([ 2., 10.,  5., 10.])"
      ]
     },
     "execution_count": 66,
     "metadata": {},
     "output_type": "execute_result"
    }
   ],
   "source": [
    "# 確認\n",
    "np.dot(A,x)"
   ]
  },
  {
   "cell_type": "code",
   "execution_count": 67,
   "metadata": {},
   "outputs": [
    {
     "data": {
      "text/plain": [
       "(0.285, 0.000)"
      ]
     },
     "execution_count": 67,
     "metadata": {},
     "output_type": "execute_result"
    }
   ],
   "source": [
    "# 2重積分\n",
    "\n",
    "from scipy import integrate\n",
    "import math\n",
    "\n",
    "integrate.dblquad(lambda x, y: 1/(np.sqrt(x+y)*(1+x+y)**2), 0, 1, lambda x: 0, lambda x: 1-x)"
   ]
  },
  {
   "cell_type": "code",
   "execution_count": 68,
   "metadata": {},
   "outputs": [],
   "source": [
    "# 目的となる関数\n",
    "def objective(x):\n",
    "\n",
    "    return x**2 +1"
   ]
  },
  {
   "cell_type": "code",
   "execution_count": 69,
   "metadata": {},
   "outputs": [
    {
     "data": {
      "image/png": "[encoded data removed]",
      "text/plain": [
       "<Figure size 432x288 with 1 Axes>"
      ]
     },
     "metadata": {
      "needs_background": "light"
     },
     "output_type": "display_data"
    }
   ],
   "source": [
    "x = np.linspace(-8,4)\n",
    "plt.plot(x,objective(x))\n",
    "plt.plot(x,np.zeros(len(x)))\n",
    "plt.grid(True)"
   ]
  },
  {
   "cell_type": "code",
   "execution_count": 70,
   "metadata": {},
   "outputs": [
    {
     "name": "stdout",
     "output_type": "stream",
     "text": [
      "2\n"
     ]
    }
   ],
   "source": [
    "# 初期値\n",
    "x0 = -1\n",
    "print(objective(x0))"
   ]
  },
  {
   "cell_type": "code",
   "execution_count": 71,
   "metadata": {},
   "outputs": [
    {
     "data": {
      "text/plain": [
       "     fun: 1.0\n",
       "     jac: array([1.49e-08])\n",
       " message: 'Optimization terminated successfully.'\n",
       "    nfev: 7\n",
       "     nit: 2\n",
       "    njev: 2\n",
       "  status: 0\n",
       " success: True\n",
       "       x: array([2.22e-16])"
      ]
     },
     "execution_count": 71,
     "metadata": {},
     "output_type": "execute_result"
    }
   ],
   "source": [
    "sol = minimize(objective,x0,method='SLSQP')\n",
    "sol"
   ]
  },
  {
   "cell_type": "code",
   "execution_count": null,
   "metadata": {},
   "outputs": [],
   "source": []
  }
 ],
 "metadata": {
  "kernelspec": {
   "display_name": "Python 3",
   "language": "python",
   "name": "python3"
  },
  "language_info": {
   "codemirror_mode": {
    "name": "ipython",
    "version": 3
   },
   "file_extension": ".py",
   "mimetype": "text/x-python",
   "name": "python",
   "nbconvert_exporter": "python",
   "pygments_lexer": "ipython3",
   "version": "3.7.1"
  }
 },
 "nbformat": 4,
 "nbformat_minor": 2
}
